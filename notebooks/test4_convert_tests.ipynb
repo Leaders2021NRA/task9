{
 "cells": [
  {
   "cell_type": "code",
   "execution_count": 1,
   "id": "63aa7044-6860-4e40-a053-e45a5bb75316",
   "metadata": {},
   "outputs": [],
   "source": [
    "import sys\n",
    "sys.path.insert(0, '../src')\n",
    "\n",
    "from modules.converters import XToJPEG\n",
    "import glob\n",
    "import os\n",
    "import datetime\n",
    "\n",
    "DATASET_PATH = '../data/dataset/'\n",
    "\n",
    "all_files_paths = [\n",
    "    x for x in glob.iglob(DATASET_PATH + '**', recursive=True)\n",
    "    if os.path.isfile(x)\n",
    "]\n",
    "\n",
    "WORK_DIR = '../data/result_{}'.format(datetime.datetime.now().strftime('%Y%m%d%H%M%S'))\n",
    "os.mkdir(WORK_DIR)"
   ]
  },
  {
   "cell_type": "code",
   "execution_count": 2,
   "id": "ef1371d9-9794-4f37-affa-20e79e937356",
   "metadata": {},
   "outputs": [],
   "source": [
    "all_files_paths = [x for x in all_files_paths if x.endswith('docx')]"
   ]
  },
  {
   "cell_type": "code",
   "execution_count": 3,
   "id": "bc08cc0c-de05-4888-ba6f-0657feb6aa14",
   "metadata": {},
   "outputs": [],
   "source": [
    "file_path = all_files_paths[3]"
   ]
  },
  {
   "cell_type": "code",
   "execution_count": 4,
   "id": "10f784cb-966a-41e6-88ef-96e41a541b06",
   "metadata": {},
   "outputs": [
    {
     "data": {
      "text/plain": [
       "'../data/dataset\\\\8\\\\documents_files_2705_NASAITGBY2020.docx'"
      ]
     },
     "execution_count": 4,
     "metadata": {},
     "output_type": "execute_result"
    }
   ],
   "source": [
    "file_path"
   ]
  },
  {
   "cell_type": "code",
   "execution_count": 5,
   "id": "47b7a47e-bbc7-4aa2-9c96-5ff9165ba269",
   "metadata": {},
   "outputs": [],
   "source": [
    "output_dir = os.path.join(WORK_DIR, os.path.basename(file_path).split('.')[0])\n",
    "os.mkdir(output_dir)"
   ]
  },
  {
   "cell_type": "code",
   "execution_count": 6,
   "id": "7bb78a6b-ace0-4e96-8037-3d5d321e9f5b",
   "metadata": {},
   "outputs": [],
   "source": [
    "converter = XToJPEG()"
   ]
  },
  {
   "cell_type": "code",
   "execution_count": 7,
   "id": "bac3a793-6be6-4ec0-ab82-d183555d16c7",
   "metadata": {},
   "outputs": [],
   "source": [
    "file_path = os.path.abspath(file_path)\n",
    "output_dir =  os.path.abspath(output_dir)"
   ]
  },
  {
   "cell_type": "code",
   "execution_count": 8,
   "id": "e67123a7-c871-446f-8227-c87795cc3efd",
   "metadata": {},
   "outputs": [],
   "source": [
    "converter.convert(file_path, output_dir)"
   ]
  },
  {
   "cell_type": "code",
   "execution_count": null,
   "id": "63c92c79-adf8-4fd0-a933-bbe652ab6314",
   "metadata": {},
   "outputs": [],
   "source": []
  },
  {
   "cell_type": "code",
   "execution_count": null,
   "id": "3bf4d3bb-3a56-44e0-8e93-632a27d13f71",
   "metadata": {},
   "outputs": [],
   "source": []
  },
  {
   "cell_type": "code",
   "execution_count": 9,
   "id": "853dcd69-26ed-4356-bbc8-1bdec52d04ce",
   "metadata": {},
   "outputs": [],
   "source": [
    "from modules.runner import Runner"
   ]
  },
  {
   "cell_type": "code",
   "execution_count": 10,
   "id": "22b66b1f-7579-4cc6-8933-1e43a63e4674",
   "metadata": {},
   "outputs": [],
   "source": [
    "r = Runner()"
   ]
  },
  {
   "cell_type": "code",
   "execution_count": 11,
   "id": "7ddf57cc-fcb9-4248-a6b3-9b33f4eecfb7",
   "metadata": {},
   "outputs": [
    {
     "data": {
      "text/plain": [
       "(['D:\\\\Competitions\\\\moshack\\\\task9\\\\data\\\\result_20211021003359\\\\documents_files_4492_SvedeniyaodohodahDRBiPK.docx\\\\page0_res.jpg',\n",
       "  'D:\\\\Competitions\\\\moshack\\\\task9\\\\data\\\\result_20211021003359\\\\documents_files_4492_SvedeniyaodohodahDRBiPK.docx\\\\page1_res.jpg',\n",
       "  'D:\\\\Competitions\\\\moshack\\\\task9\\\\data\\\\result_20211021003359\\\\documents_files_4492_SvedeniyaodohodahDRBiPK.docx\\\\page10_res.jpg',\n",
       "  'D:\\\\Competitions\\\\moshack\\\\task9\\\\data\\\\result_20211021003359\\\\documents_files_4492_SvedeniyaodohodahDRBiPK.docx\\\\page2_res.jpg',\n",
       "  'D:\\\\Competitions\\\\moshack\\\\task9\\\\data\\\\result_20211021003359\\\\documents_files_4492_SvedeniyaodohodahDRBiPK.docx\\\\page3_res.jpg',\n",
       "  'D:\\\\Competitions\\\\moshack\\\\task9\\\\data\\\\result_20211021003359\\\\documents_files_4492_SvedeniyaodohodahDRBiPK.docx\\\\page4_res.jpg',\n",
       "  'D:\\\\Competitions\\\\moshack\\\\task9\\\\data\\\\result_20211021003359\\\\documents_files_4492_SvedeniyaodohodahDRBiPK.docx\\\\page5_res.jpg',\n",
       "  'D:\\\\Competitions\\\\moshack\\\\task9\\\\data\\\\result_20211021003359\\\\documents_files_4492_SvedeniyaodohodahDRBiPK.docx\\\\page6_res.jpg',\n",
       "  'D:\\\\Competitions\\\\moshack\\\\task9\\\\data\\\\result_20211021003359\\\\documents_files_4492_SvedeniyaodohodahDRBiPK.docx\\\\page7_res.jpg',\n",
       "  'D:\\\\Competitions\\\\moshack\\\\task9\\\\data\\\\result_20211021003359\\\\documents_files_4492_SvedeniyaodohodahDRBiPK.docx\\\\page8_res.jpg',\n",
       "  'D:\\\\Competitions\\\\moshack\\\\task9\\\\data\\\\result_20211021003359\\\\documents_files_4492_SvedeniyaodohodahDRBiPK.docx\\\\page9_res.jpg'],\n",
       " 'D:\\\\Competitions\\\\moshack\\\\task9\\\\data\\\\result_20211021003359\\\\documents_files_4492_SvedeniyaodohodahDRBiPK.docx\\\\result.zip')"
      ]
     },
     "execution_count": 11,
     "metadata": {},
     "output_type": "execute_result"
    }
   ],
   "source": [
    "file_path = all_files_paths[8]\n",
    "output_dir = os.path.join(WORK_DIR, os.path.basename(file_path))\n",
    "os.mkdir(output_dir)\n",
    "r.process(file_path, output_dir)"
   ]
  },
  {
   "cell_type": "code",
   "execution_count": null,
   "id": "074653f6-d16b-4b7c-8980-61eb2a1b2cc9",
   "metadata": {},
   "outputs": [],
   "source": []
  }
 ],
 "metadata": {
  "kernelspec": {
   "display_name": "moshack_win",
   "language": "python",
   "name": "moshack_win"
  },
  "language_info": {
   "codemirror_mode": {
    "name": "ipython",
    "version": 3
   },
   "file_extension": ".py",
   "mimetype": "text/x-python",
   "name": "python",
   "nbconvert_exporter": "python",
   "pygments_lexer": "ipython3",
   "version": "3.6.13"
  }
 },
 "nbformat": 4,
 "nbformat_minor": 5
}
