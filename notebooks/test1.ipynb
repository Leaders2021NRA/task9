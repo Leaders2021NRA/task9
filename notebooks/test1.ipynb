{
 "cells": [
  {
   "cell_type": "code",
   "execution_count": 1,
   "metadata": {},
   "outputs": [],
   "source": [
    "from pdf2image import convert_from_path\n",
    "import os\n",
    "import glob\n",
    "import datetime"
   ]
  },
  {
   "cell_type": "code",
   "execution_count": 2,
   "metadata": {},
   "outputs": [],
   "source": [
    "DATASET_PATH = '../data/dataset/'"
   ]
  },
  {
   "cell_type": "code",
   "execution_count": 3,
   "metadata": {},
   "outputs": [],
   "source": [
    "all_files_paths = [\n",
    "    x for x in glob.iglob(DATASET_PATH + '**', recursive=True)\n",
    "    if os.path.isfile(x)\n",
    "]"
   ]
  },
  {
   "cell_type": "code",
   "execution_count": 4,
   "metadata": {},
   "outputs": [],
   "source": [
    "def convert_pdf_to_image(file_path, output_dir):\n",
    "    \n",
    "    images = convert_from_path(file_path)\n",
    "    \n",
    "    for i in range(len(images)):   \n",
    "        images[i].save(os.path.join(output_dir, f'page{i}.jpg'), 'JPEG')"
   ]
  },
  {
   "cell_type": "code",
   "execution_count": 5,
   "metadata": {},
   "outputs": [],
   "source": [
    "WORK_DIR = f'../data/result_{datetime.datetime.now().strftime(\"%d%m%Y_%H%m%s\")}'\n",
    "os.mkdir(WORK_DIR)"
   ]
  },
  {
   "cell_type": "code",
   "execution_count": 6,
   "metadata": {},
   "outputs": [],
   "source": [
    "file_path = all_files_paths[-1]\n",
    "output_dir = os.path.join(WORK_DIR, file_path.rsplit('/', 1)[1].rsplit('.', 1)[0])\n",
    "os.mkdir(output_dir)\n",
    "\n",
    "convert_pdf_to_image(file_path=file_path, output_dir=output_dir)"
   ]
  },
  {
   "cell_type": "code",
   "execution_count": 7,
   "metadata": {},
   "outputs": [],
   "source": [
    "#import textract\n",
    "#text = textract.process(file_path)\n",
    "#text.decode('utf-8')"
   ]
  },
  {
   "cell_type": "code",
   "execution_count": 53,
   "metadata": {},
   "outputs": [
    {
     "name": "stdout",
     "output_type": "stream",
     "text": [
      "dict_keys(['level', 'page_num', 'block_num', 'par_num', 'line_num', 'word_num', 'left', 'top', 'width', 'height', 'conf', 'text'])\n"
     ]
    }
   ],
   "source": [
    "import cv2\n",
    "import pytesseract\n",
    "from pytesseract import Output\n",
    "\n",
    "img = cv2.imread(os.path.join(output_dir, 'page0.jpg'))\n",
    "custom_config = r'--oem 3 -l rus -c --tessdata-dir=/usr/local/share/tessdata/'\n",
    "\n",
    "d = pytesseract.image_to_data(img, output_type=Output.DICT, config=custom_config)\n",
    "print(d.keys())"
   ]
  },
  {
   "cell_type": "code",
   "execution_count": 54,
   "metadata": {},
   "outputs": [],
   "source": [
    "from natasha import (\n",
    "    Segmenter,\n",
    "    MorphVocab,\n",
    "    \n",
    "    NewsEmbedding,\n",
    "    NewsMorphTagger,\n",
    "    NewsSyntaxParser,\n",
    "    NewsNERTagger,\n",
    "    \n",
    "    PER,\n",
    "    NamesExtractor,\n",
    "\n",
    "    Doc\n",
    ")\n",
    "\n",
    "\n",
    "segmenter = Segmenter()\n",
    "morph_vocab = MorphVocab()\n",
    "\n",
    "emb = NewsEmbedding()\n",
    "morph_tagger = NewsMorphTagger(emb)\n",
    "syntax_parser = NewsSyntaxParser(emb)\n",
    "ner_tagger = NewsNERTagger(emb)\n",
    "\n",
    "names_extractor = NamesExtractor(morph_vocab)"
   ]
  },
  {
   "cell_type": "code",
   "execution_count": 122,
   "metadata": {},
   "outputs": [],
   "source": [
    "def get_persons(text):\n",
    "    doc = Doc(text)\n",
    "\n",
    "    doc.segment(segmenter)\n",
    "    #print(doc.tokens[:5])\n",
    "    #print(doc.sents[:5])\n",
    "\n",
    "    doc.tag_morph(morph_tagger)\n",
    "    #print(doc.tokens[:5])\n",
    "    #doc.sents[0].morph.print()\n",
    "\n",
    "    for token in doc.tokens:\n",
    "        token.lemmatize(morph_vocab)\n",
    "\n",
    "    doc.parse_syntax(syntax_parser)\n",
    "    #print(doc.tokens[:5])\n",
    "    #doc.sents[0].syntax.print()\n",
    "\n",
    "    doc.tag_ner(ner_tagger)\n",
    "    #print(doc.spans[:5])\n",
    "    #doc.ner.print()\n",
    "\n",
    "    for span in doc.spans:\n",
    "        span.normalize(morph_vocab)\n",
    "    #print(doc.spans[:5])\n",
    "\n",
    "    for span in doc.spans:\n",
    "        if span.type == PER:\n",
    "            span.extract_fact(names_extractor)\n",
    "    \n",
    "    return [(_.normal,  _.fact.as_dict, (_.start, _.stop))\n",
    "            for _ in doc.spans if _.type == PER and _.fact]"
   ]
  },
  {
   "cell_type": "code",
   "execution_count": 123,
   "metadata": {},
   "outputs": [],
   "source": [
    "text_combined_position2box_number = {}\n",
    "text_combined = ''\n",
    "curr_position = 0\n",
    "for i, text in enumerate(d['text']):\n",
    "    if text != '':\n",
    "        for j in range(len(text)):\n",
    "            text_combined_position2box_number[curr_position+j] = i\n",
    "        text_combined += text\n",
    "        curr_position += len(text)\n",
    "        \n",
    "        text_combined += ' '\n",
    "        curr_position += 1"
   ]
  },
  {
   "cell_type": "code",
   "execution_count": 124,
   "metadata": {},
   "outputs": [
    {
     "data": {
      "text/plain": [
       "'МЭР МОСКВЫ 1 РАСПОРЯЖЕНИЕ 12 июля 2016 г. № 475-РМ О возложении обязанностей Возложить исполнение обязанностей начальника Московской адми- нистративной дорожной инспекции с 12 июля 2016 г. на Сидорова Анд- рея Николаевича,  заместителя начальника Московской административ- ной дорожной инспекции.   С. С. Собянин Организационно- аналитическое управление Правительства — 2 Москвы     Подписано цифровой подписью: Департамент информационных технологий города Москвы '"
      ]
     },
     "execution_count": 124,
     "metadata": {},
     "output_type": "execute_result"
    }
   ],
   "source": [
    "text_combined"
   ]
  },
  {
   "cell_type": "code",
   "execution_count": 125,
   "metadata": {},
   "outputs": [],
   "source": [
    "# TODO \" - \" is the problem\n",
    "#import re\n",
    "#text_combined2 = re.sub(r'(\\w)(- *)(\\w)', r'\\1\\3', text_combined)\n",
    "# TODO: rebuild text_combined_position2box_number after replace"
   ]
  },
  {
   "cell_type": "code",
   "execution_count": 136,
   "metadata": {},
   "outputs": [
    {
     "data": {
      "text/plain": [
       "[('Сидоров Анд-', {'first': 'Сидоров', 'last': 'Анд'}, (192, 205)),\n",
       " ('С. С. Собянин',\n",
       "  {'first': 'С', 'last': 'Собянин', 'middle': 'С'},\n",
       "  (299, 312))]"
      ]
     },
     "execution_count": 136,
     "metadata": {},
     "output_type": "execute_result"
    }
   ],
   "source": [
    "persons = get_persons(text_combined)\n",
    "persons"
   ]
  },
  {
   "cell_type": "code",
   "execution_count": 140,
   "metadata": {},
   "outputs": [],
   "source": [
    "boxes_num_to_show = set() \n",
    "for _, _, (i, j) in persons:\n",
    "    for k in range(i, j+1):\n",
    "        if k in text_combined_position2box_number:\n",
    "            boxes_num_to_show.add(text_combined_position2box_number[k])"
   ]
  },
  {
   "cell_type": "code",
   "execution_count": 141,
   "metadata": {},
   "outputs": [
    {
     "data": {
      "text/plain": [
       "{43, 44, 63, 64, 65}"
      ]
     },
     "execution_count": 141,
     "metadata": {},
     "output_type": "execute_result"
    }
   ],
   "source": [
    "boxes_num_to_show"
   ]
  },
  {
   "cell_type": "code",
   "execution_count": 142,
   "metadata": {},
   "outputs": [
    {
     "data": {
      "text/plain": [
       "100"
      ]
     },
     "execution_count": 142,
     "metadata": {},
     "output_type": "execute_result"
    }
   ],
   "source": [
    "n_boxes = len(d['text'])\n",
    "for i in range(n_boxes):\n",
    "    if int(d['conf'][i]) > 0: # TODO check threshold\n",
    "        (x, y, w, h) = (d['left'][i], d['top'][i], d['width'][i], d['height'][i])\n",
    "        \n",
    "        if i in boxes_num_to_show:\n",
    "            c = (0, 0, 255)\n",
    "        else:\n",
    "            c = (0, 255, 0)\n",
    "        \n",
    "        img = cv2.rectangle(img, (x, y), (x + w, y + h), c, 2)\n",
    "\n",
    "cv2.imshow('img', img)\n",
    "cv2.waitKey(0)"
   ]
  }
 ],
 "metadata": {
  "kernelspec": {
   "display_name": "moshack",
   "language": "python",
   "name": "moshack"
  },
  "language_info": {
   "codemirror_mode": {
    "name": "ipython",
    "version": 3
   },
   "file_extension": ".py",
   "mimetype": "text/x-python",
   "name": "python",
   "nbconvert_exporter": "python",
   "pygments_lexer": "ipython3",
   "version": "3.6.10"
  }
 },
 "nbformat": 4,
 "nbformat_minor": 4
}
