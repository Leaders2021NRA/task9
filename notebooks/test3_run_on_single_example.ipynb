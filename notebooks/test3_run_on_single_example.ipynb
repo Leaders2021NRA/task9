{
 "cells": [
  {
   "cell_type": "code",
   "execution_count": 1,
   "id": "d83bbc68-f796-4a35-8b04-eeb7f18f8e6c",
   "metadata": {},
   "outputs": [],
   "source": [
    "import sys\n",
    "sys.path.insert(0, '../src')\n",
    "\n",
    "from modules.runner import Runner\n",
    "import glob\n",
    "import os\n",
    "import datetime\n",
    "\n",
    "DATASET_PATH = '../data/dataset/'\n",
    "\n",
    "all_files_paths = [\n",
    "    x for x in glob.iglob(DATASET_PATH + '**', recursive=True)\n",
    "    if os.path.isfile(x)\n",
    "]\n",
    "\n",
    "WORK_DIR = '../data/result_{}'.format(datetime.datetime.now().strftime('%Y%m%d%H%M%S'))\n",
    "os.mkdir(WORK_DIR)"
   ]
  },
  {
   "cell_type": "code",
   "execution_count": 2,
   "id": "ee525f74-5a6e-4489-a6ab-cb8877612e21",
   "metadata": {},
   "outputs": [],
   "source": [
    "runner = Runner()"
   ]
  },
  {
   "cell_type": "code",
   "execution_count": 3,
   "id": "10a3e975-de63-4520-9aba-86f08e1107ee",
   "metadata": {},
   "outputs": [
    {
     "name": "stdout",
     "output_type": "stream",
     "text": [
      "../data/dataset\\1\\documents_files_1135_02032020_PR-49_20_Ovchinskii_VA_Gosydarstvennaya_inspekciya_po_kontrolu_za_ispolzovaniem_obektov_nedvijimosti_goroda_Moskvi.pdf\n"
     ]
    }
   ],
   "source": [
    "file_path = all_files_paths[0]\n",
    "print(file_path)"
   ]
  },
  {
   "cell_type": "code",
   "execution_count": 4,
   "id": "76ca3803-1dd9-4c7a-90e1-de3b02bf7aea",
   "metadata": {},
   "outputs": [],
   "source": [
    "output_dir = os.path.join(WORK_DIR, os.path.basename(file_path))\n",
    "os.mkdir(output_dir)"
   ]
  },
  {
   "cell_type": "code",
   "execution_count": 5,
   "id": "10a1404e-5788-43e7-bdcd-d12498243d34",
   "metadata": {},
   "outputs": [],
   "source": [
    "runner.process(file_path, output_dir, blur=True)"
   ]
  }
 ],
 "metadata": {
  "kernelspec": {
   "display_name": "moshack_win",
   "language": "python",
   "name": "moshack_win"
  },
  "language_info": {
   "codemirror_mode": {
    "name": "ipython",
    "version": 3
   },
   "file_extension": ".py",
   "mimetype": "text/x-python",
   "name": "python",
   "nbconvert_exporter": "python",
   "pygments_lexer": "ipython3",
   "version": "3.6.13"
  }
 },
 "nbformat": 4,
 "nbformat_minor": 5
}
