{
 "cells": [
  {
   "cell_type": "code",
   "execution_count": 1,
   "id": "d83bbc68-f796-4a35-8b04-eeb7f18f8e6c",
   "metadata": {},
   "outputs": [],
   "source": [
    "import sys\n",
    "sys.path.insert(0, '../src')\n",
    "\n",
    "from modules.runner import Runner\n",
    "import glob\n",
    "import os\n",
    "import datetime\n",
    "\n",
    "DATASET_PATH = '../data/dataset/'\n",
    "\n",
    "all_files_paths = [\n",
    "    x for x in glob.iglob(DATASET_PATH + '**', recursive=True)\n",
    "    if os.path.isfile(x)\n",
    "]\n",
    "\n",
    "WORK_DIR = '../data/result_{}'.format(datetime.datetime.now().strftime('%Y%m%d%H%M%S'))\n",
    "os.mkdir(WORK_DIR)"
   ]
  },
  {
   "cell_type": "code",
   "execution_count": 2,
   "id": "ee525f74-5a6e-4489-a6ab-cb8877612e21",
   "metadata": {},
   "outputs": [],
   "source": [
    "runner = Runner()"
   ]
  },
  {
   "cell_type": "code",
   "execution_count": 3,
   "id": "10a3e975-de63-4520-9aba-86f08e1107ee",
   "metadata": {},
   "outputs": [
    {
     "name": "stdout",
     "output_type": "stream",
     "text": [
      "../data/dataset\\1\\documents_files_1135_02032020_PR-49_20_Ovchinskii_VA_Gosydarstvennaya_inspekciya_po_kontrolu_za_ispolzovaniem_obektov_nedvijimosti_goroda_Moskvi.pdf\n"
     ]
    }
   ],
   "source": [
    "file_path = all_files_paths[0]\n",
    "print(file_path)"
   ]
  },
  {
   "cell_type": "code",
   "execution_count": 4,
   "id": "76ca3803-1dd9-4c7a-90e1-de3b02bf7aea",
   "metadata": {},
   "outputs": [],
   "source": [
    "output_dir = os.path.join(WORK_DIR, os.path.basename(file_path).split('.')[0])\n",
    "os.mkdir(output_dir)"
   ]
  },
  {
   "cell_type": "code",
   "execution_count": 5,
   "id": "10a1404e-5788-43e7-bdcd-d12498243d34",
   "metadata": {},
   "outputs": [],
   "source": [
    "results_path, path_to_zip = runner.process(file_path, output_dir, blur=True)"
   ]
  },
  {
   "cell_type": "code",
   "execution_count": 6,
   "id": "850d663d-9153-4939-8593-38a79020df5a",
   "metadata": {},
   "outputs": [
    {
     "data": {
      "text/plain": [
       "['../data/result_20211020221423\\\\documents_files_1135_02032020_PR-49_20_Ovchinskii_VA_Gosydarstvennaya_inspekciya_po_kontrolu_za_ispolzovaniem_obektov_nedvijimosti_goroda_Moskvi\\\\page0_res.jpg',\n",
       " '../data/result_20211020221423\\\\documents_files_1135_02032020_PR-49_20_Ovchinskii_VA_Gosydarstvennaya_inspekciya_po_kontrolu_za_ispolzovaniem_obektov_nedvijimosti_goroda_Moskvi\\\\page1_res.jpg',\n",
       " '../data/result_20211020221423\\\\documents_files_1135_02032020_PR-49_20_Ovchinskii_VA_Gosydarstvennaya_inspekciya_po_kontrolu_za_ispolzovaniem_obektov_nedvijimosti_goroda_Moskvi\\\\page2_res.jpg',\n",
       " '../data/result_20211020221423\\\\documents_files_1135_02032020_PR-49_20_Ovchinskii_VA_Gosydarstvennaya_inspekciya_po_kontrolu_za_ispolzovaniem_obektov_nedvijimosti_goroda_Moskvi\\\\page3_res.jpg',\n",
       " '../data/result_20211020221423\\\\documents_files_1135_02032020_PR-49_20_Ovchinskii_VA_Gosydarstvennaya_inspekciya_po_kontrolu_za_ispolzovaniem_obektov_nedvijimosti_goroda_Moskvi\\\\page4_res.jpg',\n",
       " '../data/result_20211020221423\\\\documents_files_1135_02032020_PR-49_20_Ovchinskii_VA_Gosydarstvennaya_inspekciya_po_kontrolu_za_ispolzovaniem_obektov_nedvijimosti_goroda_Moskvi\\\\page5_res.jpg',\n",
       " '../data/result_20211020221423\\\\documents_files_1135_02032020_PR-49_20_Ovchinskii_VA_Gosydarstvennaya_inspekciya_po_kontrolu_za_ispolzovaniem_obektov_nedvijimosti_goroda_Moskvi\\\\page6_res.jpg']"
      ]
     },
     "execution_count": 6,
     "metadata": {},
     "output_type": "execute_result"
    }
   ],
   "source": [
    "results_path"
   ]
  },
  {
   "cell_type": "code",
   "execution_count": 7,
   "id": "92ad41da-c711-4bec-9965-f8ee8c824fe8",
   "metadata": {},
   "outputs": [
    {
     "data": {
      "text/plain": [
       "'../data/result_20211020221423\\\\documents_files_1135_02032020_PR-49_20_Ovchinskii_VA_Gosydarstvennaya_inspekciya_po_kontrolu_za_ispolzovaniem_obektov_nedvijimosti_goroda_Moskvi\\\\result.zip'"
      ]
     },
     "execution_count": 7,
     "metadata": {},
     "output_type": "execute_result"
    }
   ],
   "source": [
    "path_to_zip"
   ]
  },
  {
   "cell_type": "code",
   "execution_count": null,
   "id": "8e1efc64-cc1d-4249-b393-132f83bb2131",
   "metadata": {},
   "outputs": [],
   "source": []
  },
  {
   "cell_type": "code",
   "execution_count": null,
   "id": "f6666eaa-b69f-4329-8e8f-a963e62ec788",
   "metadata": {},
   "outputs": [],
   "source": []
  }
 ],
 "metadata": {
  "kernelspec": {
   "display_name": "moshack_win",
   "language": "python",
   "name": "moshack_win"
  },
  "language_info": {
   "codemirror_mode": {
    "name": "ipython",
    "version": 3
   },
   "file_extension": ".py",
   "mimetype": "text/x-python",
   "name": "python",
   "nbconvert_exporter": "python",
   "pygments_lexer": "ipython3",
   "version": "3.6.13"
  }
 },
 "nbformat": 4,
 "nbformat_minor": 5
}
