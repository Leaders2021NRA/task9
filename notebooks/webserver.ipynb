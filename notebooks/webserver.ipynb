{
 "cells": [
  {
   "cell_type": "code",
   "execution_count": 68,
   "metadata": {},
   "outputs": [],
   "source": [
    "from flask import Flask, request, flash, redirect, url_for, render_template, send_file, jsonify\n",
    "\n",
    "import sys\n",
    "import os\n",
    "import datetime\n",
    "\n",
    "import time\n",
    "\n",
    "from modules.runner import Runner\n",
    "   \n",
    "runner = Runner()\n",
    "ALLOWED_EXTENSIONS = {'txt', 'pdf', 'png', 'jpg', 'jpeg'}\n",
    "\n",
    "def allowed_file(filename):\n",
    "    return '.' in filename and \\\n",
    "           filename.rsplit('.', 1)[1].lower() in ALLOWED_EXTENSIONS"
   ]
  },
  {
   "cell_type": "code",
   "execution_count": 69,
   "metadata": {},
   "outputs": [
    {
     "name": "stdout",
     "output_type": "stream",
     "text": [
      " * Serving Flask app \"__main__\" (lazy loading)\n",
      " * Environment: production\n",
      "   WARNING: This is a development server. Do not use it in a production deployment.\n",
      "   Use a production WSGI server instead.\n",
      " * Debug mode: off\n"
     ]
    },
    {
     "name": "stderr",
     "output_type": "stream",
     "text": [
      " * Running on http://127.0.0.1:5000/ (Press CTRL+C to quit)\n",
      "127.0.0.1 - - [21/Oct/2021 12:39:07] \"\u001b[37mGET / HTTP/1.1\u001b[0m\" 200 -\n",
      "127.0.0.1 - - [21/Oct/2021 12:39:14] \"\u001b[32mPOST / HTTP/1.1\u001b[0m\" 302 -\n",
      "127.0.0.1 - - [21/Oct/2021 12:39:14] \"\u001b[37mGET /processed/ HTTP/1.1\u001b[0m\" 200 -\n",
      "127.0.0.1 - - [21/Oct/2021 12:39:17] \"\u001b[37mPOST /processed/ HTTP/1.1\u001b[0m\" 200 -\n"
     ]
    }
   ],
   "source": [
    "# ------------------------------------- RUN APP -------------------------------------------------\n",
    "app = Flask(__name__)\n",
    "app.config['PATH_TO_ZIP'] = None\n",
    "\n",
    "@app.route('/', methods=['GET'])\n",
    "def upload_file():\n",
    "    return render_template('initial.html')\n",
    "\n",
    "@app.route('/', methods=['POST'])\n",
    "def main_page():\n",
    "    WORK_DIR = '../data/result_{}'.format(datetime.datetime.now().strftime('%Y%m%d%H%M%S'))\n",
    "    os.makedirs(WORK_DIR)\n",
    "    if 'file' not in request.files:\n",
    "        flash('No file part')\n",
    "        return redirect(request.url)\n",
    "    file = request.files['file']\n",
    "    # If the user does not select a file, the browser submits an\n",
    "    # empty file without a filename.\n",
    "    if file.filename == '':\n",
    "        flash('No selected file')\n",
    "        return redirect(request.url)\n",
    "    if file:\n",
    "        if allowed_file(file.filename):\n",
    "            # если все ок, то сохраняем файл по директории UPLOAD_FOLDER\n",
    "            filename = file.filename\n",
    "            file_path = os.path.join(WORK_DIR, filename)\n",
    "            file.save(file_path)\n",
    "            # backend\n",
    "            output_dir = os.path.join(WORK_DIR, os.path.basename(file_path).split('.')[0])\n",
    "            os.mkdir(output_dir)\n",
    "            time.sleep(3)\n",
    "            results_path, path_to_zip = runner.process(file_path, output_dir, blur=True)\n",
    "            app.config['PATH_TO_ZIP'] = path_to_zip\n",
    "            return redirect('/processed/')\n",
    "        else:\n",
    "            flash('This file is not allowed')\n",
    "            return redirect(request.url)\n",
    "    return redirect(request.url)\n",
    "\n",
    "@app.route('/wait/', methods=['GET'])\n",
    "def upload_file_wait():\n",
    "    return render_template('wait.html')\n",
    "    \n",
    "@app.route('/processed/', methods=['POST'])\n",
    "def upload_file_post():\n",
    "    try:\n",
    "        return send_file(app.config['PATH_TO_ZIP'])\n",
    "    except Exception as e:\n",
    "        return str(e)\n",
    "    \n",
    "@app.route('/processed/', methods=['GET'])\n",
    "def upload_file_get():\n",
    "    return render_template('processed.html')\n",
    "\n",
    "\n",
    "if __name__=='__main__': \n",
    "    #app.run(host='0.0.0.0', port='9889', debug=True)\n",
    "    app.run(port=\"5000\")"
   ]
  },
  {
   "cell_type": "code",
   "execution_count": null,
   "metadata": {},
   "outputs": [],
   "source": []
  }
 ],
 "metadata": {
  "kernelspec": {
   "display_name": "leaders",
   "language": "python",
   "name": "leaders"
  },
  "language_info": {
   "codemirror_mode": {
    "name": "ipython",
    "version": 3
   },
   "file_extension": ".py",
   "mimetype": "text/x-python",
   "name": "python",
   "nbconvert_exporter": "python",
   "pygments_lexer": "ipython3",
   "version": "3.7.4"
  }
 },
 "nbformat": 4,
 "nbformat_minor": 4
}
