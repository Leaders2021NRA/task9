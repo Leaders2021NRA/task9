{
 "cells": [
  {
   "cell_type": "code",
   "execution_count": 1,
   "metadata": {},
   "outputs": [],
   "source": [
    "from flask import Flask, request, flash, redirect, url_for, render_template, send_file\n",
    "\n",
    "import numpy as np\n",
    "import pandas as pd\n",
    "import sys\n",
    "import os\n",
    "import json\n",
    "import requests\n",
    "import urllib.request\n",
    "\n",
    "UPLOAD_FOLDER = './uploads'\n",
    "if not os.path.exists(UPLOAD_FOLDER):\n",
    "    os.makedirs(UPLOAD_FOLDER)\n",
    "ALLOWED_EXTENSIONS = {'txt', 'pdf', 'png', 'jpg', 'jpeg'}\n",
    "\n",
    "def allowed_file(filename):\n",
    "    return '.' in filename and \\\n",
    "           filename.rsplit('.', 1)[1].lower() in ALLOWED_EXTENSIONS"
   ]
  },
  {
   "cell_type": "code",
   "execution_count": null,
   "metadata": {},
   "outputs": [
    {
     "name": "stdout",
     "output_type": "stream",
     "text": [
      " * Serving Flask app \"__main__\" (lazy loading)\n",
      " * Environment: production\n",
      "   WARNING: This is a development server. Do not use it in a production deployment.\n",
      "   Use a production WSGI server instead.\n",
      " * Debug mode: off\n"
     ]
    },
    {
     "name": "stderr",
     "output_type": "stream",
     "text": [
      " * Running on http://127.0.0.1:5000/ (Press CTRL+C to quit)\n",
      "127.0.0.1 - - [20/Oct/2021 22:53:41] \"\u001b[37mGET / HTTP/1.1\u001b[0m\" 200 -\n",
      "127.0.0.1 - - [20/Oct/2021 22:53:44] \"\u001b[32mPOST / HTTP/1.1\u001b[0m\" 302 -\n",
      "127.0.0.1 - - [20/Oct/2021 22:53:44] \"\u001b[37mGET /processed/ HTTP/1.1\u001b[0m\" 200 -\n"
     ]
    }
   ],
   "source": [
    "# ------------------------------------- RUN APP -------------------------------------------------\n",
    "app = Flask(__name__)\n",
    "app.config['UPLOAD_FOLDER'] = UPLOAD_FOLDER\n",
    "\n",
    "@app.route('/', methods=['GET'])\n",
    "def upload_file():\n",
    "    return render_template('initial.html')\n",
    "\n",
    "@app.route('/', methods=['POST'])\n",
    "def main_page():\n",
    "    if 'file' not in request.files:\n",
    "        flash('No file part')\n",
    "        return redirect(request.url)\n",
    "    file = request.files['file']\n",
    "    # If the user does not select a file, the browser submits an\n",
    "    # empty file without a filename.\n",
    "    if file.filename == '':\n",
    "        flash('No selected file')\n",
    "        return redirect(request.url)\n",
    "    if file:\n",
    "        if allowed_file(file.filename):\n",
    "            # если все ок, то сохраняем файл по директории UPLOAD_FOLDER\n",
    "            filename = file.filename\n",
    "            file.save(os.path.join(app.config['UPLOAD_FOLDER'], filename))\n",
    "            # тут делаем бэкэнд ? \n",
    "            # <backend code here>\n",
    "            return redirect('/processed/')\n",
    "        else:\n",
    "            flash('This file is not allowed')\n",
    "            return redirect(request.url)\n",
    "    return redirect(request.url)\n",
    "\n",
    "@app.route('/processed/')\n",
    "def processed():\n",
    "    try:\n",
    "        return send_file(os.path.join(app.config['UPLOAD_FOLDER'], 'exit.zip'))\n",
    "    except Exception as e:\n",
    "        return str(e)\n",
    "\n",
    "\n",
    "if __name__=='__main__': \n",
    "    #app.run(host='0.0.0.0', port='9889', debug=True)\n",
    "    app.run()"
   ]
  },
  {
   "cell_type": "code",
   "execution_count": null,
   "metadata": {},
   "outputs": [],
   "source": []
  }
 ],
 "metadata": {
  "kernelspec": {
   "display_name": "Python 3",
   "language": "python",
   "name": "python3"
  },
  "language_info": {
   "codemirror_mode": {
    "name": "ipython",
    "version": 3
   },
   "file_extension": ".py",
   "mimetype": "text/x-python",
   "name": "python",
   "nbconvert_exporter": "python",
   "pygments_lexer": "ipython3",
   "version": "3.8.3"
  }
 },
 "nbformat": 4,
 "nbformat_minor": 4
}
